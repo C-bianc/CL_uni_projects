{
 "cells": [
  {
   "cell_type": "code",
   "execution_count": 1,
   "id": "b0aa3ea3-32e3-4a8b-adf4-bad4fcd388f9",
   "metadata": {},
   "outputs": [],
   "source": [
    "#!/usr/bin/env python\n",
    "# coding: utf-8\n",
    "#===============================================================================\n",
    "#\n",
    "#           FILE: word2vec_ntb.py \n",
    "#         AUTHOR: Bianca Ciobanica\n",
    "#\t       EMAIL: bianca.ciobanica@student.uclouvain.be\n",
    "#\n",
    "#           BUGS: \n",
    "#        VERSION: 3.11.4\n",
    "#        CREATED: 16-11-2023 \n",
    "#\n",
    "#===============================================================================\n",
    "#    DESCRIPTION:  sources used : \n",
    "#\n",
    "#    \n",
    "#          USAGE: \n",
    "#==============================================================================="
   ]
  },
  {
   "cell_type": "code",
   "execution_count": 2,
   "id": "ec6b05ad-de31-4341-bd83-ebdb27a4fad5",
   "metadata": {},
   "outputs": [],
   "source": [
    "import re\n",
    "import time\n",
    "import nltk\n",
    "from collections import Counter\n",
    "from itertools import chain\n",
    "from nltk.corpus.reader import PlaintextCorpusReader\n",
    "import gensim\n",
    "from gensim import corpora\n",
    "from gensim.models import Word2Vec"
   ]
  },
  {
   "cell_type": "code",
   "execution_count": 3,
   "id": "5fe851ca-a77e-41fd-a171-67c53466938a",
   "metadata": {},
   "outputs": [],
   "source": [
    "corpus = PlaintextCorpusReader(root=\".\", \n",
    "                               fileids=[\"corpus.txt\"])"
   ]
  },
  {
   "cell_type": "code",
   "execution_count": 4,
   "id": "d883ca5d-9d54-489e-8bdc-c38bd90c973c",
   "metadata": {},
   "outputs": [],
   "source": [
    "unk_cutoff = 10"
   ]
  },
  {
   "cell_type": "code",
   "execution_count": 5,
   "id": "8a0a3246-63bb-4724-b0a4-cd071fb03bfb",
   "metadata": {},
   "outputs": [],
   "source": [
    "def preprocess_steps(corpus):\n",
    "    # get sentences\n",
    "    text = corpus.sents()\n",
    "\n",
    "    processed_text = [\n",
    "        [token.lower() for token in re.sub(r\"[.,:;!?\\-\\'\\\"\\(\\)\\[\\]]+\", ' ', \" \".join(sentence)).split() if token != \"\"]\n",
    "        for sentence in text\n",
    "    ]\n",
    "\n",
    "    return processed_text\n",
    "    \n",
    "preprocessed_corpus = preprocess_steps(corpus)"
   ]
  },
  {
   "cell_type": "code",
   "execution_count": 6,
   "id": "9383bc53-763e-4e35-a4aa-e33924dc5aed",
   "metadata": {},
   "outputs": [],
   "source": [
    "def create_restricted_voc(threshold=None):\n",
    "    word_counts = Counter(list(chain.from_iterable(preprocessed_corpus))) # flatten the list\n",
    "    \n",
    "    preprocessed_corpus_unk = [['<UNK>' if word_counts[word] < threshold else word for word in sentence] for sentence in preprocessed_corpus]\n",
    "    \n",
    "    unique_tokens = set(list(chain.from_iterable(preprocessed_corpus_unk)))\n",
    "    \n",
    "    return preprocessed_corpus_unk, unique_tokens"
   ]
  },
  {
   "cell_type": "code",
   "execution_count": 7,
   "id": "5a3bae83-698b-476b-a0b0-8e252cb3795b",
   "metadata": {},
   "outputs": [],
   "source": [
    "preprocessed_corpus_unk, unique_tokens = create_restricted_voc(threshold=unk_cutoff)\n",
    "\n",
    "#dictionary = corpora.Dictionary(preprocessed_corpus_unk)"
   ]
  },
  {
   "cell_type": "code",
   "execution_count": 8,
   "id": "62317151-7ca5-4d36-ab25-d24796da5287",
   "metadata": {},
   "outputs": [
    {
     "name": "stdout",
     "output_type": "stream",
     "text": [
      "121991\n"
     ]
    }
   ],
   "source": [
    "print(len(preprocessed_corpus_unk))"
   ]
  },
  {
   "cell_type": "code",
   "execution_count": 12,
   "id": "7073e9df-cfc0-47c2-915b-8e705393787d",
   "metadata": {},
   "outputs": [],
   "source": [
    "target_words = [\"car\", \"feature\", \"computer\"]\n",
    "\n",
    "# initialize model with given parameters\n",
    "word2vec_model = Word2Vec(\n",
    "    sentences=preprocessed_corpus_unk, \n",
    "    vector_size=100, # dimensions\n",
    "    window=2, \n",
    "    sg=1,  #skipgrams\n",
    "    negative=10, \n",
    "    epochs=50,  \n",
    "    workers=1 \n",
    ")"
   ]
  },
  {
   "cell_type": "code",
   "execution_count": 10,
   "id": "21c60cc7-09ea-4fe0-b838-409e7e7de9ea",
   "metadata": {},
   "outputs": [],
   "source": [
    "def get_5_closest_words(target_words):\n",
    "    similarities = {}\n",
    "\n",
    "    for target_word in target_words:\n",
    "        if target_word in word2vec_model.wv: # vectors\n",
    "            similar_words = word2vec_model.wv.most_similar(target_word, topn=5)\n",
    "            similarities[target_word] = similar_words\n",
    "    \n",
    "    \n",
    "    for target, similar_words in similarities.items():\n",
    "        print(f\"5 words most similar to {target}:\")\n",
    "        print(set(similar_words[i][0] for i in range(5)))\n",
    "        for word, similarity in similar_words:\n",
    "            print(f\"{word} : {similarity}\".ljust(50))\n",
    "        print()\n",
    "        \n",
    "    return similarities  "
   ]
  },
  {
   "cell_type": "code",
   "execution_count": 11,
   "id": "ddd9cf70-2fe0-4158-849c-d416ea53c24b",
   "metadata": {},
   "outputs": [
    {
     "name": "stdout",
     "output_type": "stream",
     "text": [
      "5 words most similar to car:\n",
      "{'vehicles', 'ghia', 'cars', 'boat', 'tangara'}\n",
      "cars : 0.586064338684082                          \n",
      "ghia : 0.5160677433013916                         \n",
      "boat : 0.5109049677848816                         \n",
      "vehicles : 0.5091322064399719                     \n",
      "tangara : 0.5040414929389954                      \n",
      "\n",
      "5 words most similar to feature:\n",
      "{'features', 'daioh', 'gedcom', 'featured', 'remixes'}\n",
      "features : 0.5864483714103699                     \n",
      "daioh : 0.5153237581253052                        \n",
      "remixes : 0.492087721824646                       \n",
      "featured : 0.49171215295791626                    \n",
      "gedcom : 0.4878462553024292                       \n",
      "\n",
      "5 words most similar to computer:\n",
      "{'motorola', 'computing', 'programming', 'programmers', 'interactive'}\n",
      "programmers : 0.6052811145782471                  \n",
      "computing : 0.5372326970100403                    \n",
      "interactive : 0.5279883742332458                  \n",
      "motorola : 0.5242708921432495                     \n",
      "programming : 0.5230295062065125                  \n",
      "\n"
     ]
    }
   ],
   "source": [
    "similar_to_targets = get_5_closest_words(target_words)"
   ]
  }
 ],
 "metadata": {
  "kernelspec": {
   "display_name": "Python 3 (ipykernel)",
   "language": "python",
   "name": "python3"
  },
  "language_info": {
   "codemirror_mode": {
    "name": "ipython",
    "version": 3
   },
   "file_extension": ".py",
   "mimetype": "text/x-python",
   "name": "python",
   "nbconvert_exporter": "python",
   "pygments_lexer": "ipython3",
   "version": "3.11.4"
  }
 },
 "nbformat": 4,
 "nbformat_minor": 5
}
